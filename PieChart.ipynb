{
 "cells": [
  {
   "cell_type": "code",
   "execution_count": null,
   "metadata": {},
   "outputs": [],
   "source": [
    "import matplotlib.pyplot as plt\n",
    "\n",
# Define the data for the pie chart
populations = [56.01, 3.57, 21.69, 18.73] 
labels = ['Data Center', 'Edge Computing', 'NW Transformation', 'Modems & IP']

# Create the pie chart
fig, ax = plt.subplots()
ax.pie(populations, labels=labels, autopct='%1.1f%%', startangle=90)

# Add a title
ax.set_title("Investment Attributable to 5G")

# Display the pie chart
plt.show()
   ]
  }
 ],
 "metadata": {
  "language_info": {
   "name": "python"
  },
  "orig_nbformat": 4
 },
 "nbformat": 4,
 "nbformat_minor": 2
}
